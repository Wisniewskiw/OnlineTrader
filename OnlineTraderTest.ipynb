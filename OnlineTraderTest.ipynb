{
 "cells": [
  {
   "cell_type": "markdown",
   "metadata": {},
   "source": [
    "# TESTING AN ONLINE CRYPTO TRADER ADVISOR WITH\n",
    "- email sending advice\n",
    "- saving data\n",
    "- connecting to cex.io and collecting data in real time"
   ]
  },
  {
   "cell_type": "code",
   "execution_count": 1,
   "metadata": {},
   "outputs": [],
   "source": [
    "from py_files.turtle_buy_strat import *\n",
    "from py_files.cex_api_wrapper import *"
   ]
  },
  {
   "cell_type": "code",
   "execution_count": 2,
   "metadata": {},
   "outputs": [],
   "source": [
    "import json\n",
    "with open('json_files//data.json', 'r') as fp:\n",
    "        parameters_dict = json.load(fp)\n",
    "with open('json_files//BTCUSD.json', 'r') as fp:\n",
    "        dictioBTCUSD = json.load(fp)\n",
    "with open('json_files//BCHUSD.json', 'r') as fp:\n",
    "        dictioBCHUSD = json.load(fp)  \n",
    "with open('json_files//ETHUSD.json', 'r') as fp:\n",
    "        dictioETHUSD = json.load(fp)\n",
    "with open('json_files//ETHBTC.json', 'r') as fp:\n",
    "        dictioETHBTC = json.load(fp)  \n",
    "with open('json_files//LTCUSD.json', 'r') as fp:\n",
    "        dictioLTCUSD = json.load(fp)\n",
    "with open('json_files//XRPUSD.json', 'r') as fp:\n",
    "        dictioXRPUSD = json.load(fp)  "
   ]
  },
  {
   "cell_type": "code",
   "execution_count": 3,
   "metadata": {},
   "outputs": [],
   "source": [
    "import time\n",
    "import pandas as pd\n",
    "import numpy as np"
   ]
  },
  {
   "cell_type": "code",
   "execution_count": 4,
   "metadata": {},
   "outputs": [],
   "source": [
    "BTCUSD= pd.read_csv('csv_files//Bitstamp_BTCUSD_1h.csv', skiprows=1, parse_dates=['date'])\n",
    "BCHUSD= pd.read_csv('csv_files//Bitstamp_BCHUSD_1h.csv', skiprows=1, parse_dates=['date'])\n",
    "ETHBTC= pd.read_csv('csv_files//Bitstamp_ETHBTC_1h.csv', skiprows=1, parse_dates=['date'])\n",
    "ETHUSD= pd.read_csv('csv_files//Bitstamp_ETHUSD_1h.csv', skiprows=1, parse_dates=['date'])\n",
    "LTCUSD= pd.read_csv('csv_files//Bitstamp_LTCUSD_1h.csv', skiprows=1, parse_dates=['date'])\n",
    "XRPUSD= pd.read_csv('csv_files//Bitstamp_XRPUSD_1h.csv', skiprows=1, parse_dates=['date'])\n",
    "dfs=[BTCUSD,BCHUSD,ETHBTC,ETHUSD,LTCUSD,XRPUSD] "
   ]
  },
  {
   "cell_type": "code",
   "execution_count": 5,
   "metadata": {},
   "outputs": [],
   "source": [
    "TestTurtleBTCUSD=TurtleBuyOnlyOnlineStrategy(dictioBTCUSD)\n",
    "TestTurtleETHUSD=TurtleBuyOnlyOnlineStrategy(dictioETHUSD)\n",
    "TestTurtleETHBTC=TurtleBuyOnlyOnlineStrategy(dictioETHBTC)\n",
    "TestTurtleLTCUSD=TurtleBuyOnlyOnlineStrategy(dictioLTCUSD)\n",
    "TestTurtleBCHUSD=TurtleBuyOnlyOnlineStrategy(dictioBCHUSD)\n",
    "TestTurtleXRPUSD=TurtleBuyOnlyOnlineStrategy(dictioXRPUSD)"
   ]
  },
  {
   "cell_type": "code",
   "execution_count": 8,
   "metadata": {},
   "outputs": [],
   "source": [
    "stop=int(TestTurtleBTCUSD.delta1/TestTurtleBTCUSD.delta2)*TestTurtleBTCUSD.window_delta1\n",
    "\n",
    "TestTurtleBTCUSD.initial_feeder(list(BTCUSD.open.values[:stop][::-1]))\n",
    "TestTurtleETHBTC.initial_feeder(list(ETHBTC.open.values[:stop][::-1]))\n",
    "TestTurtleETHUSD.initial_feeder(list(ETHUSD.open.values[:stop][::-1]))\n",
    "TestTurtleLTCUSD.initial_feeder(list(LTCUSD.open.values[:stop][::-1]))\n",
    "TestTurtleBCHUSD.initial_feeder(list(BCHUSD.open.values[:stop][::-1]))\n",
    "TestTurtleXRPUSD.initial_feeder(list(XRPUSD.open.values[:stop][::-1]))"
   ]
  },
  {
   "cell_type": "code",
   "execution_count": 9,
   "metadata": {},
   "outputs": [],
   "source": [
    "username=parameters_dict['CEX_username']\n",
    "api_key=parameters_dict['CEX_api_key']\n",
    "api_secret=parameters_dict['CEX_api_secret']\n",
    "api = Api(username, api_key, api_secret)\n",
    "\n",
    "online_df_saverBTCUSD=cex_dataframe_online_saver('BTCUSD_price')\n",
    "online_df_saverBCHUSD=cex_dataframe_online_saver('BCHUSD_price')\n",
    "online_df_saverETHBTC=cex_dataframe_online_saver('ETHBTC_price')\n",
    "online_df_saverETHUSD=cex_dataframe_online_saver('ETHUSD_price')\n",
    "online_df_saverLTCUSD=cex_dataframe_online_saver('LTCUSD_price')\n",
    "online_df_saverXRPUSD=cex_dataframe_online_saver('XRPUSD_price')\n"
   ]
  },
  {
   "cell_type": "code",
   "execution_count": null,
   "metadata": {},
   "outputs": [],
   "source": [
    "import time\n",
    "import datetime as dt \n",
    "\n",
    "savers=[ online_df_saverBTCUSD,online_df_saverBCHUSD,online_df_saverETHBTC,\n",
    "      online_df_saverETHUSD,online_df_saverLTCUSD,online_df_saverXRPUSD]\n",
    "symbols=['BTC/USD','BCH/USD','ETH/BTC','ETH/USD','LTC/USD','XRP/USD']\n",
    "turtles=[\n",
    "    TestTurtleBTCUSD,TestTurtleBCHUSD ,TestTurtleETHBTC ,\n",
    "    TestTurtleETHUSD ,TestTurtleLTCUSD ,TestTurtleXRPUSD]\n",
    "\n",
    "while True:\n",
    "    \n",
    "    t = dt.datetime.now()   \n",
    "    if (t.minute==0) : \n",
    "        for save,sym,turtle in  zip(savers,symbols,turtles):\n",
    "            \n",
    "            tick=api.ticker(sym)\n",
    "            save.cex_ticker_save(tick)\n",
    "            feeder={'timestamp':pd.to_datetime( tick['timestamp'][0], unit='s')\n",
    "                    ,'bid':tick['bid'][0],'ask':tick['ask'][0]}\n",
    "            turtle.run(feeder)\n",
    "\n",
    "        time.sleep(int(TestTurtleBTCUSD.delta2*1.1))\n",
    "        "
   ]
  },
  {
   "cell_type": "code",
   "execution_count": null,
   "metadata": {},
   "outputs": [],
   "source": []
  }
 ],
 "metadata": {
  "kernelspec": {
   "display_name": "Python 3",
   "language": "python",
   "name": "python3"
  },
  "language_info": {
   "codemirror_mode": {
    "name": "ipython",
    "version": 3
   },
   "file_extension": ".py",
   "mimetype": "text/x-python",
   "name": "python",
   "nbconvert_exporter": "python",
   "pygments_lexer": "ipython3",
   "version": "3.6.4"
  }
 },
 "nbformat": 4,
 "nbformat_minor": 2
}
