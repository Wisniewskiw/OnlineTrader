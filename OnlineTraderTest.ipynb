{
 "cells": [
  {
   "cell_type": "markdown",
   "metadata": {},
   "source": [
    "# TESTING AN ONLINE CRYPTO TRADER ADVISOR WITH\n",
    "- email sending advice\n",
    "- saving data\n",
    "- connecting to cex.io and collecting data in real time"
   ]
  },
  {
   "cell_type": "code",
   "execution_count": 1,
   "metadata": {},
   "outputs": [],
   "source": [
    "from py_files.turtle_buy_strat import *\n",
    "from py_files.cex_api_wrapper import *"
   ]
  },
  {
   "cell_type": "code",
   "execution_count": 2,
   "metadata": {},
   "outputs": [],
   "source": [
    "import json\n",
    "with open('json_files//data.json', 'r') as fp:\n",
    "        parameters_dict = json.load(fp)\n",
    "with open('json_files//BTCUSD.json', 'r') as fp:\n",
    "        dictioBTCUSD = json.load(fp)\n",
    "with open('json_files//BCHUSD.json', 'r') as fp:\n",
    "        dictioBCHUSD = json.load(fp)  \n",
    "with open('json_files//ETHUSD.json', 'r') as fp:\n",
    "        dictioETHUSD = json.load(fp)\n",
    "with open('json_files//ETHBTC.json', 'r') as fp:\n",
    "        dictioETHBTC = json.load(fp)  \n",
    "with open('json_files//LTCUSD.json', 'r') as fp:\n",
    "        dictioLTCUSD = json.load(fp)\n",
    "with open('json_files//XRPUSD.json', 'r') as fp:\n",
    "        dictioXRPUSD = json.load(fp)  "
   ]
  },
  {
   "cell_type": "code",
   "execution_count": 3,
   "metadata": {},
   "outputs": [],
   "source": [
    "import time\n",
    "import pandas as pd\n",
    "import numpy as np"
   ]
  },
  {
   "cell_type": "code",
   "execution_count": 4,
   "metadata": {},
   "outputs": [],
   "source": [
    "BTCUSD= pd.read_csv('csv_files//Bitstamp_BTCUSD_1h.csv', skiprows=1, parse_dates=['date'])\n",
    "BCHUSD= pd.read_csv('csv_files//Bitstamp_BCHUSD_1h.csv', skiprows=1, parse_dates=['date'])\n",
    "ETHBTC= pd.read_csv('csv_files//Bitstamp_ETHBTC_1h.csv', skiprows=1, parse_dates=['date'])\n",
    "ETHUSD= pd.read_csv('csv_files//Bitstamp_ETHUSD_1h.csv', skiprows=1, parse_dates=['date'])\n",
    "LTCUSD= pd.read_csv('csv_files//Bitstamp_LTCUSD_1h.csv', skiprows=1, parse_dates=['date'])\n",
    "XRPUSD= pd.read_csv('csv_files//Bitstamp_XRPUSD_1h.csv', skiprows=1, parse_dates=['date'])\n",
    "dfs=[BTCUSD,BCHUSD,ETHBTC,ETHUSD,LTCUSD,XRPUSD] "
   ]
  },
  {
   "cell_type": "code",
   "execution_count": 5,
   "metadata": {},
   "outputs": [],
   "source": [
    "TestTurtleBTCUSD=TurtleBuyOnlyOnlineStrategy(dictioBTCUSD)\n",
    "TestTurtleETHUSD=TurtleBuyOnlyOnlineStrategy(dictioETHUSD)\n",
    "TestTurtleETHBTC=TurtleBuyOnlyOnlineStrategy(dictioETHBTC)\n",
    "TestTurtleLTCUSD=TurtleBuyOnlyOnlineStrategy(dictioLTCUSD)\n",
    "TestTurtleBCHUSD=TurtleBuyOnlyOnlineStrategy(dictioBCHUSD)\n",
    "TestTurtleXRPUSD=TurtleBuyOnlyOnlineStrategy(dictioXRPUSD)"
   ]
  },
  {
   "cell_type": "code",
   "execution_count": 6,
   "metadata": {},
   "outputs": [],
   "source": [
    "# some more data to the feeder"
   ]
  },
  {
   "cell_type": "code",
   "execution_count": 7,
   "metadata": {},
   "outputs": [],
   "source": [
    "\n",
    "a=[ 37838.1,37460.4,37527,37143.5,37488.3,\n",
    "37526.6,37960.3,38360.9,38475.4,38000,38537,\n",
    "38383,38353,39050,39638,39583,39290,39500,\n",
    "39466,39823,39439.8,38800,38965,39202,39401,39189,39224,38706,\n",
    "  38500,37749,38023.2,38435,38300,38642,38490,38141.5,37666,36991]\n",
    "\n",
    "b=[494.48,489.92,491.05,477.85,489.32,488,96,\n",
    "493,498,496,491.19,505,501.5,500,515.65,\n",
    "512.2,518.83,521.82,525.03,524.57,531.66,\n",
    "521.15,507.31,510,516.33 ,520,513.01,510.55,\n",
    "  507.83,499.85,502,507,500,505,500.32,486.22,502,490]\n",
    "\n",
    "c=[.03,.029839,.029788,.029586,0.029579,\n",
    "0.020553,0.029597,0.030031,0.030069,\n",
    "0.030221,0.030306,0.030391,0.030514,\n",
    "0.030718,0.030558,0.030844,0.031235,\n",
    "0.031078,0.0307321,0.030863,0.030795,\n",
    "0.03056,0.030811,0.031419,0.031496,0.031396,0.031422,0.031557,\n",
    "   0.031392,0.0314,0.32044,0.031737,0.031616,\n",
    "0.031840,0.031969,0.032269,0.032457,0.032258\n",
    "   \n",
    "]\n",
    "\n",
    "d=[1132.67,1117,1111.07,1099.63,1108.44,1112.7,\n",
    "1120,1150.47,1159.68,1149.66,1168.16,1167.86,\n",
    "1168.92,1196.41,1208.01,1214.54,1225.97,\n",
    "1220.54,1210.52,1230,1206.85,1187.47,1198.6,1229.99,\n",
    "1230.61,1230.1,1238.86,1217.39,\n",
    "   1187,1196.31,1235,1216.77,1230.11,1229.89,1229.87,1212.55,1220.39,\n",
    "   1191.39\n",
    "\n",
    "]\n",
    "\n",
    "e=[\n",
    "146.649,145.987,146.313,144.768,146.384,146.065,\n",
    "146.885,148.949,148.785,147.729,148.451,147.575,\n",
    "147.607,152.33,153.072,154.252,154.008,154.828,\n",
    "154,154,152.477,148.802,150.003,153.198,153.806,150,153.14,150.487,\n",
    "    147.7,147.915,151,148.707,151.593,149.501,148.801,148.21,149.218,145\n",
    "]\n",
    "\n",
    "f=[\n",
    "0.30305,0.29257,0.28968,0.292,0.29415,0.29598,\n",
    "0.29601,0.3,0.297,0.29489,0.29688,0.29597,\n",
    "0.29642,0.29711,0.29977,0.29738,0.3003,\n",
    "0.2984,0.29698,0.29929,0.295,0.29369,\n",
    "0.29376,0.297789,0.29766,0.2971,0.29785,0.29502,\n",
    "    0.29169,0.29101,0.29497,0.29256,0.29084,0.29101,0.29061,0.28884,0.28835,\n",
    "    0.27785\n",
    "]"
   ]
  },
  {
   "cell_type": "code",
   "execution_count": 8,
   "metadata": {},
   "outputs": [],
   "source": [
    "stop=int(TestTurtleBTCUSD.delta1/TestTurtleBTCUSD.delta2)*TestTurtleBTCUSD.window_delta1-len(a)\n",
    "\n",
    "TestTurtleBTCUSD.initial_feeder(list(BTCUSD.open.values[:stop][::-1])+a)\n",
    "TestTurtleETHBTC.initial_feeder(list(ETHBTC.open.values[:stop][::-1])+c)\n",
    "TestTurtleETHUSD.initial_feeder(list(ETHUSD.open.values[:stop][::-1])+d)\n",
    "TestTurtleLTCUSD.initial_feeder(list(LTCUSD.open.values[:stop][::-1])+e)\n",
    "TestTurtleBCHUSD.initial_feeder(list(BCHUSD.open.values[:stop][::-1])+b)\n",
    "TestTurtleXRPUSD.initial_feeder(list(XRPUSD.open.values[:stop][::-1])+f)"
   ]
  },
  {
   "cell_type": "code",
   "execution_count": 9,
   "metadata": {},
   "outputs": [],
   "source": [
    "username=parameters_dict['CEX_username']\n",
    "api_key=parameters_dict['CEX_api_key']\n",
    "api_secret=parameters_dict['CEX_api_secret']\n",
    "api = Api(username, api_key, api_secret)\n",
    "\n",
    "online_df_saverBTCUSD=cex_dataframe_online_saver('BTCUSD_price')\n",
    "online_df_saverBCHUSD=cex_dataframe_online_saver('BCHUSD_price')\n",
    "online_df_saverETHBTC=cex_dataframe_online_saver('ETHBTC_price')\n",
    "online_df_saverETHUSD=cex_dataframe_online_saver('ETHUSD_price')\n",
    "online_df_saverLTCUSD=cex_dataframe_online_saver('LTCUSD_price')\n",
    "online_df_saverXRPUSD=cex_dataframe_online_saver('XRPUSD_price')\n"
   ]
  },
  {
   "cell_type": "code",
   "execution_count": null,
   "metadata": {},
   "outputs": [],
   "source": [
    "import time\n",
    "import datetime as dt \n",
    "\n",
    "savers=[ online_df_saverBTCUSD,online_df_saverBCHUSD,online_df_saverETHBTC,\n",
    "      online_df_saverETHUSD,online_df_saverLTCUSD,online_df_saverXRPUSD]\n",
    "symbols=['BTC/USD','BCH/USD','ETH/BTC','ETH/USD','LTC/USD','XRP/USD']\n",
    "turtles=[\n",
    "    TestTurtleBTCUSD,TestTurtleBCHUSD ,TestTurtleETHBTC ,\n",
    "    TestTurtleETHUSD ,TestTurtleLTCUSD ,TestTurtleXRPUSD]\n",
    "\n",
    "while True:\n",
    "    \n",
    "    t = dt.datetime.now()   \n",
    "    if (t.minute==0) : \n",
    "        for save,sym,turtle in  zip(savers,symbols,turtles):\n",
    "            \n",
    "            tick=api.ticker(sym)\n",
    "            save.cex_ticker_save(tick)\n",
    "            feeder={'timestamp':pd.to_datetime( tick['timestamp'][0], unit='s')\n",
    "                    ,'bid':tick['bid'][0],'ask':tick['ask'][0]}\n",
    "            turtle.run(feeder)\n",
    "\n",
    "        time.sleep(600)\n",
    "        "
   ]
  },
  {
   "cell_type": "code",
   "execution_count": null,
   "metadata": {},
   "outputs": [],
   "source": []
  }
 ],
 "metadata": {
  "kernelspec": {
   "display_name": "Python 3",
   "language": "python",
   "name": "python3"
  },
  "language_info": {
   "codemirror_mode": {
    "name": "ipython",
    "version": 3
   },
   "file_extension": ".py",
   "mimetype": "text/x-python",
   "name": "python",
   "nbconvert_exporter": "python",
   "pygments_lexer": "ipython3",
   "version": "3.6.4"
  }
 },
 "nbformat": 4,
 "nbformat_minor": 2
}
